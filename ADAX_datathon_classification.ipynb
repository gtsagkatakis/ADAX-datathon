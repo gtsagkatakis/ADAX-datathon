{
  "nbformat": 4,
  "nbformat_minor": 0,
  "metadata": {
    "colab": {
      "provenance": [],
      "machine_shape": "hm",
      "gpuType": "V100",
      "mount_file_id": "1j94kuPXSTbhLZrJrsbcTx-N2_2qyQ4Gk",
      "authorship_tag": "ABX9TyOllspT3T0o9IYHklPPqmTe",
      "include_colab_link": true
    },
    "kernelspec": {
      "name": "python3",
      "display_name": "Python 3"
    },
    "language_info": {
      "name": "python"
    },
    "accelerator": "GPU"
  },
  "cells": [
    {
      "cell_type": "markdown",
      "metadata": {
        "id": "view-in-github",
        "colab_type": "text"
      },
      "source": [
        "<a href=\"https://colab.research.google.com/github/gtsagkatakis/ADAX-datathon/blob/main/ADAX_datathon_classification.ipynb\" target=\"_parent\"><img src=\"https://colab.research.google.com/assets/colab-badge.svg\" alt=\"Open In Colab\"/></a>"
      ]
    },
    {
      "cell_type": "code",
      "source": [
        "from google.colab import drive\n",
        "drive.mount('/content/drive')"
      ],
      "metadata": {
        "colab": {
          "base_uri": "https://localhost:8080/"
        },
        "id": "O4mB4176jGGx",
        "outputId": "f4da27d4-6826-4d0b-dfcc-0c1ec4d16db3"
      },
      "execution_count": null,
      "outputs": [
        {
          "output_type": "stream",
          "name": "stdout",
          "text": [
            "Drive already mounted at /content/drive; to attempt to forcibly remount, call drive.mount(\"/content/drive\", force_remount=True).\n"
          ]
        }
      ]
    },
    {
      "cell_type": "code",
      "execution_count": null,
      "metadata": {
        "id": "rphfzNJyibO-"
      },
      "outputs": [],
      "source": [
        "import numpy as np\n",
        "import matplotlib.pyplot as plt\n",
        "import keras\n",
        "from keras.models import Model\n",
        "from keras.layers import Dense, Flatten, Input, Conv1D\n",
        "from keras.layers import Dropout\n",
        "from keras.layers import BatchNormalization\n",
        "from keras.layers.pooling import MaxPooling1D\n",
        "from tensorflow.keras.optimizers import Adam\n",
        "from IPython.display import clear_output\n",
        "from keras import regularizers\n",
        "import skimage.measure\n",
        "import sys"
      ]
    },
    {
      "cell_type": "code",
      "source": [
        "# download the dataset from here\n",
        "https://drive.google.com/drive/folders/1xUvbtmOx2RTEGQOIm9QJzqL3QZX7KbXr?usp=sharing"
      ],
      "metadata": {
        "id": "-npsJ4VFloX0"
      },
      "execution_count": null,
      "outputs": []
    },
    {
      "cell_type": "code",
      "source": [
        "# from numpy.random import seed\n",
        "# seed(1)\n",
        "# from tensorflow import set_random_seed\n",
        "# set_random_seed(2)\n",
        "\n",
        "spectral_data=np.load('/content/drive/MyDrive/TITAN 2023/SummerSchool2023/Datathon/code/train_data_10k.npy')\n",
        "#spectral_data=np.squeeze(spectral_data, axis=1)\n",
        "\n",
        "#spectral_data= np.nan_to_num(spectral_data)\n",
        "\n",
        "#a=np.argmax(train_labels,axis=1)\n",
        "#b=np.round(a/2,0)\n",
        "\n",
        "#train_data=train_data[:,np.arange(0,1780,2),:]\n",
        "\n",
        "redshift_labels=np.load('/content/drive/MyDrive/TITAN 2023/SummerSchool2023/Datathon/code/trainLabels_10k.npy')\n",
        "\n",
        "redshift_labels=skimage.measure.block_reduce(redshift_labels, (1,10), np.max)\n",
        "#redshift_labels_reg=np.max(redshift_labels)\n",
        "#redshift_labels_reg=np.argmax(redshift_labels,1)\n",
        "#redshift_labels_reg=1+redshift_labels_reg*0.01\n",
        "\n",
        "#print(np.amin(redshift_labels_reg), np.amax(redshift_labels_reg))"
      ],
      "metadata": {
        "id": "76sxBXDUi4Fx"
      },
      "execution_count": null,
      "outputs": []
    },
    {
      "cell_type": "code",
      "source": [
        "num_training_examples=2000\n",
        "\n",
        "train_data=spectral_data[0:num_training_examples,:,:]\n",
        "train_labels=redshift_labels[0:num_training_examples,:]\n",
        "#train_labels_reg=redshift_labels_reg[0:5000]\n",
        "\n",
        "\n",
        "test_data=spectral_data[9000:10000,:,:]\n",
        "test_labels=redshift_labels[9000:10000,:]\n",
        "#test_labels_reg=redshift_labels_reg[9000:10000]"
      ],
      "metadata": {
        "id": "fGYZLg0tjyHQ"
      },
      "execution_count": null,
      "outputs": []
    },
    {
      "cell_type": "code",
      "source": [
        "\n",
        "class PlotLosses(keras.callbacks.Callback):\n",
        "    def on_train_begin(self, logs={}):\n",
        "        self.i = 0\n",
        "        self.x = []\n",
        "        self.losses = []\n",
        "        self.val_losses = []\n",
        "        self.losses2 = []\n",
        "        self.val_losses2 = []\n",
        "\n",
        "\n",
        "        self.fig = plt.figure()\n",
        "\n",
        "        self.logs = []\n",
        "\n",
        "    def on_epoch_end(self, epoch, logs={}):\n",
        "        self.logs.append(logs)\n",
        "        self.x.append(self.i)\n",
        "        self.losses.append(logs.get('categorical_accuracy'))\n",
        "        self.val_losses.append(logs.get('val_categorical_accuracy'))\n",
        "        self.losses2.append(logs.get('loss'))\n",
        "        self.val_losses2.append(logs.get('val_loss'))\n",
        "\n",
        "        self.i += 1\n",
        "\n",
        "        clear_output(wait=True)\n",
        "        plt.subplot(1,2,1)\n",
        "        plt.plot(self.x, self.losses, label=\"Training accuracy\",linestyle='-')\n",
        "        plt.plot(self.x, self.val_losses, label=\"Testing accuracy\",linestyle='--')\n",
        "        plt.ylim(0,1)\n",
        "        plt.legend()\n",
        "        plt.xlabel('Epoch')\n",
        "        plt.ylabel('Accuracy')\n",
        "#        plt.savefig('acc.png',dpi=300)\n",
        "\n",
        "        plt.subplot(1,2,2)\n",
        "        plt.plot(self.x, self.losses2, label=\"Training loss\",linestyle='-')\n",
        "        plt.plot(self.x, self.val_losses2, label=\"Testing loss\",linestyle='--')\n",
        "#        plt.ylim(0,1)\n",
        "        plt.legend()\n",
        "        plt.xlabel('Epoch')\n",
        "        plt.ylabel('Loss')\n",
        "\n",
        "        plt.tight_layout()\n",
        "\n",
        "        plt.show();\n",
        "\n",
        "plot_losses = PlotLosses()\n",
        "\n"
      ],
      "metadata": {
        "id": "ARJMLwD2jy9q"
      },
      "execution_count": null,
      "outputs": []
    },
    {
      "cell_type": "code",
      "source": [
        "\n",
        "inputs = Input((train_data.shape[1],1),name='main_input')\n",
        "\n",
        "\n",
        "\n",
        "conv00  = Conv1D(16, 8,  activation='relu', strides=1, padding='same')(inputs)\n",
        "#conv01  = Conv1D(16, 8,  activation='relu', strides=1, padding='same')(conv00)\n",
        "pool00  = MaxPooling1D(pool_size=3, strides=2, padding='same')(conv00)\n",
        "bn00 = BatchNormalization()(pool00)\n",
        "\n",
        "conv10  = Conv1D(16, 8,  activation='relu', strides=1, padding='same')(bn00)\n",
        "#conv11  = Conv1D(16, 8,  activation='relu', strides=1, padding='same')(conv10)\n",
        "pool10  = MaxPooling1D(pool_size=3, strides=2, padding='same')(conv10)\n",
        "bn10 = BatchNormalization()(pool10)\n",
        "\n",
        "conv20  = Conv1D(16, 8,  activation='relu', strides=1, padding='same')(bn10)\n",
        "#conv21  = Conv1D(16, 8,  activation='relu', strides=1, padding='same')(conv20)\n",
        "pool20  = MaxPooling1D(pool_size=3, strides=2, padding='same')(conv20)\n",
        "bn20 = BatchNormalization()(pool20)\n",
        "#conv30  = Conv1D(16, 8,  activation='relu', strides=1, padding='same')(pool20)\n",
        "#conv21  = Conv1D(16, 8,  activation='relu', strides=1, padding='same')(conv20)\n",
        "#pool30  = MaxPooling1D(pool_size=1, strides=1, padding='same')(conv30)\n",
        "\n",
        "#conv40  = Conv1D(16, 8,  activation='relu', strides=1, padding='same')(pool30)\n",
        "#conv21  = Conv1D(16, 8,  activation='relu', strides=1, padding='same')(conv20)\n",
        "#pool40  = MaxPooling1D(pool_size=1, strides=1, padding='same')(conv40)\n",
        "\n",
        "\n",
        "\n",
        "fl0 = Flatten(name='fl0')(bn20)\n",
        "\n",
        "Do0 = Dropout(0.5)(fl0)\n",
        "\n",
        "fc0  = Dense(512,activation='linear', kernel_regularizer=regularizers.l2(0.2))(Do0)\n",
        "\n",
        "Do1 = Dropout(0.5)(fc0)\n",
        "\n",
        "Dn0 = Dense(train_labels.shape[1],activation='softmax', name='Dn0' )(Do1)\n",
        "#Dn0 = Dense(1,activation='linear', name='Dn0' )(Do1)\n",
        "\n",
        "model_1 = Model(inputs=[inputs], outputs=[Dn0])\n",
        "optzr =  Adam(learning_rate=1e-4, beta_1=0.9, beta_2=0.999)\n",
        "\n",
        "\n",
        "#model_1.compile(loss='mean_absolute_error',optimizer=optzr,  metrics =['mean_absolute_error'])\n",
        "model_1.compile(loss='categorical_crossentropy',optimizer=optzr,  metrics =['categorical_accuracy'])\n",
        "\n",
        "model_1.summary()\n"
      ],
      "metadata": {
        "colab": {
          "base_uri": "https://localhost:8080/"
        },
        "id": "MI74EGJPj4wa",
        "outputId": "5ca2906b-fe5e-4368-fde2-6210ec5fc27b"
      },
      "execution_count": null,
      "outputs": [
        {
          "output_type": "stream",
          "name": "stdout",
          "text": [
            "Model: \"model_2\"\n",
            "_________________________________________________________________\n",
            " Layer (type)                Output Shape              Param #   \n",
            "=================================================================\n",
            " main_input (InputLayer)     [(None, 1780, 1)]         0         \n",
            "                                                                 \n",
            " conv1d_6 (Conv1D)           (None, 1780, 16)          144       \n",
            "                                                                 \n",
            " max_pooling1d_6 (MaxPooling  (None, 890, 16)          0         \n",
            " 1D)                                                             \n",
            "                                                                 \n",
            " batch_normalization_6 (Batc  (None, 890, 16)          64        \n",
            " hNormalization)                                                 \n",
            "                                                                 \n",
            " conv1d_7 (Conv1D)           (None, 890, 16)           2064      \n",
            "                                                                 \n",
            " max_pooling1d_7 (MaxPooling  (None, 445, 16)          0         \n",
            " 1D)                                                             \n",
            "                                                                 \n",
            " batch_normalization_7 (Batc  (None, 445, 16)          64        \n",
            " hNormalization)                                                 \n",
            "                                                                 \n",
            " conv1d_8 (Conv1D)           (None, 445, 16)           2064      \n",
            "                                                                 \n",
            " max_pooling1d_8 (MaxPooling  (None, 223, 16)          0         \n",
            " 1D)                                                             \n",
            "                                                                 \n",
            " batch_normalization_8 (Batc  (None, 223, 16)          64        \n",
            " hNormalization)                                                 \n",
            "                                                                 \n",
            " fl0 (Flatten)               (None, 3568)              0         \n",
            "                                                                 \n",
            " dropout_4 (Dropout)         (None, 3568)              0         \n",
            "                                                                 \n",
            " dense_2 (Dense)             (None, 512)               1827328   \n",
            "                                                                 \n",
            " dropout_5 (Dropout)         (None, 512)               0         \n",
            "                                                                 \n",
            " Dn0 (Dense)                 (None, 80)                41040     \n",
            "                                                                 \n",
            "=================================================================\n",
            "Total params: 1,872,832\n",
            "Trainable params: 1,872,736\n",
            "Non-trainable params: 96\n",
            "_________________________________________________________________\n"
          ]
        }
      ]
    },
    {
      "cell_type": "code",
      "source": [
        "\n",
        "history=model_1.fit(train_data,train_labels, batch_size=32, epochs=50, validation_data=[test_data,test_labels],callbacks=[plot_losses],shuffle=True)\n",
        "#history=model_1.fit(train_data,train_labels_reg, batch_size=20, epochs=100, validation_data=[test_data,test_labels_reg],callbacks=[plot_losses],shuffle=True)\n"
      ],
      "metadata": {
        "colab": {
          "base_uri": "https://localhost:8080/",
          "height": 504
        },
        "id": "blm_krfej8bi",
        "outputId": "c5dbac83-702e-4944-cd28-0b1152fa0c48"
      },
      "execution_count": null,
      "outputs": [
        {
          "output_type": "display_data",
          "data": {
            "text/plain": [
              "<Figure size 640x480 with 2 Axes>"
            ],
            "image/png": "[encoded data removed]"
          },
          "metadata": {}
        },
        {
          "output_type": "stream",
          "name": "stdout",
          "text": [
            "\b\b\b\b\b\b\b\b\b\b\b\b\b\b\b\b\b\b\b\b\b\b\b\b\b\b\b\b\b\b\b\b\b\b\b\b\b\b\b\b\b\b\b\b\b\b\b\b\b\b\b\b\b\b\b\b\b\b\b\b\b\b\b\b\b\b\b\b\b\b\b\b\b\b\b\b\b\b\b\b\b\b\b\b\b\b\b\b\b\b\b\b\b\b\r63/63 [==============================] - 1s 13ms/step - loss: 0.9530 - categorical_accuracy: 0.9710 - val_loss: 1.3023 - val_categorical_accuracy: 0.8700\n"
          ]
        }
      ]
    },
    {
      "cell_type": "code",
      "source": [
        "\n",
        "test_labels_reg=np.argmax(test_labels,1)\n",
        "test_labels_reg=1+test_labels_reg*0.01\n",
        "print('min:',np.amin(test_labels_reg),' max:', np.amax(test_labels_reg),' unique:', np.unique(test_labels_reg).size)\n",
        "\n",
        "predictions = model_1.predict(test_data)\n",
        "predictions_max=np.argmax(predictions,1)\n",
        "predictions_red=1+predictions_max*0.01\n",
        "print('min:',np.amin(predictions_red),' max:', np.amax(predictions_red),' unique:', np.unique(predictions_red).size)\n",
        "\n",
        "error=np.mean(abs(predictions_red - test_labels_reg))\n",
        "\n",
        "print('Mean prediction error:', error)"
      ],
      "metadata": {
        "colab": {
          "base_uri": "https://localhost:8080/"
        },
        "id": "hc4RiCP_j_A4",
        "outputId": "e57331d8-bf74-46f8-d367-12d85a0f0912"
      },
      "execution_count": null,
      "outputs": [
        {
          "output_type": "stream",
          "name": "stdout",
          "text": [
            "min: 1.0  max: 1.79  unique: 80\n",
            "32/32 [==============================] - 0s 2ms/step\n",
            "min: 1.0  max: 1.79  unique: 80\n",
            "Mean prediction error: 0.01672\n"
          ]
        }
      ]
    }
  ]
}