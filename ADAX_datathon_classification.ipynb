{
  "nbformat": 4,
  "nbformat_minor": 0,
  "metadata": {
    "colab": {
      "provenance": [],
      "machine_shape": "hm",
      "gpuType": "V100",
      "mount_file_id": "1j94kuPXSTbhLZrJrsbcTx-N2_2qyQ4Gk",
      "authorship_tag": "ABX9TyNegUjcqQKYahVyOuIv7Dx9",
      "include_colab_link": true
    },
    "kernelspec": {
      "name": "python3",
      "display_name": "Python 3"
    },
    "language_info": {
      "name": "python"
    },
    "accelerator": "GPU"
  },
  "cells": [
    {
      "cell_type": "markdown",
      "metadata": {
        "id": "view-in-github",
        "colab_type": "text"
      },
      "source": [
        "<a href=\"https://colab.research.google.com/github/gtsagkatakis/ADAX-datathon/blob/main/ADAX_datathon_classification.ipynb\" target=\"_parent\"><img src=\"https://colab.research.google.com/assets/colab-badge.svg\" alt=\"Open In Colab\"/></a>"
      ]
    },
    {
      "cell_type": "code",
      "source": [
        "from google.colab import drive\n",
        "drive.mount('/content/drive')"
      ],
      "metadata": {
        "colab": {
          "base_uri": "https://localhost:8080/"
        },
        "id": "O4mB4176jGGx",
        "outputId": "d24ab5ff-9b51-4620-d5eb-6aad6e78379a"
      },
      "execution_count": 53,
      "outputs": [
        {
          "output_type": "stream",
          "name": "stdout",
          "text": [
            "Drive already mounted at /content/drive; to attempt to forcibly remount, call drive.mount(\"/content/drive\", force_remount=True).\n"
          ]
        }
      ]
    },
    {
      "cell_type": "code",
      "execution_count": 54,
      "metadata": {
        "id": "rphfzNJyibO-"
      },
      "outputs": [],
      "source": [
        "import numpy as np\n",
        "import matplotlib.pyplot as plt\n",
        "import keras\n",
        "from keras.models import Model\n",
        "from keras.layers import Dense, Flatten, Input, Conv1D, MaxPooling1D\n",
        "from keras.layers import Dropout\n",
        "from keras.layers import BatchNormalization\n",
        "from tensorflow.keras.optimizers import Adam\n",
        "from IPython.display import clear_output\n",
        "from keras import regularizers\n",
        "import skimage.measure\n",
        "import sys"
      ]
    },
    {
      "cell_type": "code",
      "source": [
        "# download the dataset from here\n",
        "#https://drive.google.com/open?id=1xUvbtmOx2RTEGQOIm9QJzqL3QZX7KbXr&usp=drive_fs"
      ],
      "metadata": {
        "id": "-npsJ4VFloX0"
      },
      "execution_count": 55,
      "outputs": []
    },
    {
      "cell_type": "code",
      "source": [
        "#load dataset\n",
        "spectral_data=np.load('/content/drive/MyDrive/TITAN 2023/SummerSchool2023/Datathon/Code&Data/train_data_10k.npy')\n",
        "redshift_labels=np.load('/content/drive/MyDrive/TITAN 2023/SummerSchool2023/Datathon/Code&Data/trainLabels_10k.npy')\n",
        "\n"
      ],
      "metadata": {
        "id": "76sxBXDUi4Fx"
      },
      "execution_count": 56,
      "outputs": []
    },
    {
      "cell_type": "code",
      "source": [
        "#make 800 classes -> 80\n",
        "#redshift_labels=skimage.measure.block_reduce(redshift_labels, (1,10), np.max)"
      ],
      "metadata": {
        "id": "Lwfb2j_3_Fs6"
      },
      "execution_count": 57,
      "outputs": []
    },
    {
      "cell_type": "code",
      "source": [
        "#collect training data\n",
        "num_training_examples=5000\n",
        "train_data=spectral_data[0:num_training_examples,:]\n",
        "train_labels=redshift_labels[0:num_training_examples,:]\n"
      ],
      "metadata": {
        "id": "fGYZLg0tjyHQ"
      },
      "execution_count": 58,
      "outputs": []
    },
    {
      "cell_type": "code",
      "source": [
        "#collect test data\n",
        "test_data=spectral_data[9000:10000,:]\n",
        "test_labels=redshift_labels[9000:10000,:]\n"
      ],
      "metadata": {
        "id": "q2E_2sbTrkJw"
      },
      "execution_count": 59,
      "outputs": []
    },
    {
      "cell_type": "code",
      "source": [
        "print(test_labels)"
      ],
      "metadata": {
        "colab": {
          "base_uri": "https://localhost:8080/"
        },
        "id": "byoR2EeEvnna",
        "outputId": "04b4fab2-e57b-4111-d50f-522e7b63ad43"
      },
      "execution_count": 60,
      "outputs": [
        {
          "output_type": "stream",
          "name": "stdout",
          "text": [
            "[[0. 0. 0. ... 0. 0. 0.]\n",
            " [0. 0. 0. ... 0. 0. 0.]\n",
            " [0. 0. 0. ... 0. 0. 0.]\n",
            " ...\n",
            " [0. 0. 0. ... 0. 0. 0.]\n",
            " [0. 0. 0. ... 0. 0. 0.]\n",
            " [0. 0. 0. ... 0. 0. 0.]]\n"
          ]
        }
      ]
    },
    {
      "cell_type": "code",
      "source": [
        "#create a function to plot the loss and accuracy during training\n",
        "class PlotLosses(keras.callbacks.Callback):\n",
        "    def on_train_begin(self, logs={}):\n",
        "        self.i = 0\n",
        "        self.x = []\n",
        "        self.losses = []\n",
        "        self.val_losses = []\n",
        "        self.losses2 = []\n",
        "        self.val_losses2 = []\n",
        "\n",
        "\n",
        "        self.fig = plt.figure()\n",
        "\n",
        "        self.logs = []\n",
        "\n",
        "    def on_epoch_end(self, epoch, logs={}):\n",
        "        self.logs.append(logs)\n",
        "        self.x.append(self.i)\n",
        "        self.losses.append(logs.get('categorical_accuracy'))\n",
        "        self.val_losses.append(logs.get('val_categorical_accuracy'))\n",
        "        self.losses2.append(logs.get('loss'))\n",
        "        self.val_losses2.append(logs.get('val_loss'))\n",
        "\n",
        "        self.i += 1\n",
        "\n",
        "        clear_output(wait=True)\n",
        "        plt.subplot(1,2,1)\n",
        "        plt.plot(self.x, self.losses, label=\"Training accuracy\",linestyle='-')\n",
        "        plt.plot(self.x, self.val_losses, label=\"Testing accuracy\",linestyle='--')\n",
        "        plt.ylim(0,1)\n",
        "        plt.legend()\n",
        "        plt.xlabel('Epoch')\n",
        "        plt.ylabel('Accuracy')\n",
        "#        plt.savefig('acc.png',dpi=300)\n",
        "\n",
        "        plt.subplot(1,2,2)\n",
        "        plt.plot(self.x, self.losses2, label=\"Training loss\",linestyle='-')\n",
        "        plt.plot(self.x, self.val_losses2, label=\"Testing loss\",linestyle='--')\n",
        "#        plt.ylim(0,1)\n",
        "        plt.legend()\n",
        "        plt.xlabel('Epoch')\n",
        "        plt.ylabel('Loss')\n",
        "\n",
        "        plt.tight_layout()\n",
        "\n",
        "        plt.show();\n",
        "\n",
        "plot_losses = PlotLosses()\n",
        "\n"
      ],
      "metadata": {
        "id": "ARJMLwD2jy9q"
      },
      "execution_count": 61,
      "outputs": []
    },
    {
      "cell_type": "code",
      "source": [
        "#define the DNN\n",
        "\n",
        "inputs = Input((train_data.shape[1],1),name='main_input')\n",
        "\n",
        "conv00  = Conv1D(16, 8,  activation='relu', strides=1, padding='same')(inputs)\n",
        "#conv01  = Conv1D(16, 8,  activation='relu', strides=1, padding='same')(conv00)\n",
        "pool00  = MaxPooling1D(pool_size=3, strides=2, padding='same')(conv00)\n",
        "bn00 = BatchNormalization()(pool00)\n",
        "\n",
        "conv10  = Conv1D(16, 8,  activation='relu', strides=1, padding='same')(bn00)\n",
        "#conv11  = Conv1D(16, 8,  activation='relu', strides=1, padding='same')(conv10)\n",
        "pool10  = MaxPooling1D(pool_size=3, strides=2, padding='same')(conv10)\n",
        "bn10 = BatchNormalization()(pool10)\n",
        "\n",
        "conv20  = Conv1D(16, 8,  activation='relu', strides=1, padding='same')(bn10)\n",
        "#conv21  = Conv1D(16, 8,  activation='relu', strides=1, padding='same')(conv20)\n",
        "pool20  = MaxPooling1D(pool_size=3, strides=2, padding='same')(conv20)\n",
        "bn20 = BatchNormalization()(pool20)\n",
        "#conv30  = Conv1D(16, 8,  activation='relu', strides=1, padding='same')(pool20)\n",
        "#conv21  = Conv1D(16, 8,  activation='relu', strides=1, padding='same')(conv20)\n",
        "#pool30  = MaxPooling1D(pool_size=1, strides=1, padding='same')(conv30)\n",
        "\n",
        "#conv40  = Conv1D(16, 8,  activation='relu', strides=1, padding='same')(pool30)\n",
        "#conv21  = Conv1D(16, 8,  activation='relu', strides=1, padding='same')(conv20)\n",
        "#pool40  = MaxPooling1D(pool_size=1, strides=1, padding='same')(conv40)\n",
        "\n",
        "\n",
        "\n",
        "fl0 = Flatten(name='fl0')(bn20)\n",
        "\n",
        "Do0 = Dropout(0.5)(fl0)\n",
        "\n",
        "fc0  = Dense(512,activation='linear', kernel_regularizer=regularizers.l2(0.2))(Do0)\n",
        "\n",
        "Do1 = Dropout(0.5)(fc0)\n",
        "\n",
        "Dn0 = Dense(train_labels.shape[1],activation='softmax', name='Dn0' )(Do1)\n",
        "#Dn0 = Dense(1,activation='linear', name='Dn0' )(Do1)\n",
        "\n",
        "model_1 = Model(inputs=[inputs], outputs=[Dn0])\n",
        "optzr =  Adam(learning_rate=1e-4, beta_1=0.9, beta_2=0.999)\n",
        "\n",
        "\n",
        "#model_1.compile(loss='mean_absolute_error',optimizer=optzr,  metrics =['mean_absolute_error'])\n",
        "model_1.compile(loss='categorical_crossentropy',optimizer=optzr,  metrics =['categorical_accuracy'])\n",
        "\n",
        "model_1.summary()\n"
      ],
      "metadata": {
        "colab": {
          "base_uri": "https://localhost:8080/"
        },
        "id": "MI74EGJPj4wa",
        "outputId": "21344059-3818-4764-881e-7b1bdcbd534a"
      },
      "execution_count": 62,
      "outputs": [
        {
          "output_type": "stream",
          "name": "stdout",
          "text": [
            "Model: \"model_3\"\n",
            "_________________________________________________________________\n",
            " Layer (type)                Output Shape              Param #   \n",
            "=================================================================\n",
            " main_input (InputLayer)     [(None, 1780, 1)]         0         \n",
            "                                                                 \n",
            " conv1d_9 (Conv1D)           (None, 1780, 16)          144       \n",
            "                                                                 \n",
            " max_pooling1d_9 (MaxPoolin  (None, 890, 16)           0         \n",
            " g1D)                                                            \n",
            "                                                                 \n",
            " batch_normalization_9 (Bat  (None, 890, 16)           64        \n",
            " chNormalization)                                                \n",
            "                                                                 \n",
            " conv1d_10 (Conv1D)          (None, 890, 16)           2064      \n",
            "                                                                 \n",
            " max_pooling1d_10 (MaxPooli  (None, 445, 16)           0         \n",
            " ng1D)                                                           \n",
            "                                                                 \n",
            " batch_normalization_10 (Ba  (None, 445, 16)           64        \n",
            " tchNormalization)                                               \n",
            "                                                                 \n",
            " conv1d_11 (Conv1D)          (None, 445, 16)           2064      \n",
            "                                                                 \n",
            " max_pooling1d_11 (MaxPooli  (None, 223, 16)           0         \n",
            " ng1D)                                                           \n",
            "                                                                 \n",
            " batch_normalization_11 (Ba  (None, 223, 16)           64        \n",
            " tchNormalization)                                               \n",
            "                                                                 \n",
            " fl0 (Flatten)               (None, 3568)              0         \n",
            "                                                                 \n",
            " dropout_6 (Dropout)         (None, 3568)              0         \n",
            "                                                                 \n",
            " dense_3 (Dense)             (None, 512)               1827328   \n",
            "                                                                 \n",
            " dropout_7 (Dropout)         (None, 512)               0         \n",
            "                                                                 \n",
            " Dn0 (Dense)                 (None, 800)               410400    \n",
            "                                                                 \n",
            "=================================================================\n",
            "Total params: 2242192 (8.55 MB)\n",
            "Trainable params: 2242096 (8.55 MB)\n",
            "Non-trainable params: 96 (384.00 Byte)\n",
            "_________________________________________________________________\n"
          ]
        }
      ]
    },
    {
      "cell_type": "code",
      "source": [
        "#traing the model\n",
        "history=model_1.fit(train_data,train_labels, batch_size=32, epochs=20, validation_data=[test_data,test_labels],callbacks=[plot_losses],shuffle=True)\n"
      ],
      "metadata": {
        "colab": {
          "base_uri": "https://localhost:8080/",
          "height": 525
        },
        "id": "blm_krfej8bi",
        "outputId": "e341813c-e5f8-4fa1-bb19-5cf53f64dffc"
      },
      "execution_count": 63,
      "outputs": [
        {
          "output_type": "display_data",
          "data": {
            "text/plain": [
              "<Figure size 640x480 with 2 Axes>"
            ],
            "image/png": "[encoded data removed]"
          },
          "metadata": {}
        },
        {
          "output_type": "stream",
          "name": "stdout",
          "text": [
            "\b\b\b\b\b\b\b\b\b\b\b\b\b\b\b\b\b\b\b\b\b\b\b\b\b\b\b\b\b\b\b\b\b\b\b\b\b\b\b\b\b\b\b\b\b\b\b\b\b\b\b\b\b\b\b\b\b\b\b\b\b\b\b\b\b\b\b\b\b\b\b\b\b\b\b\b\b\b\b\b\b\b\b\b\b\b\b\b\b\b\b\b\b\b\b\b\r157/157 [==============================] - 2s 11ms/step - loss: 3.9062 - categorical_accuracy: 0.5458 - val_loss: 4.6653 - val_categorical_accuracy: 0.2110\n"
          ]
        }
      ]
    },
    {
      "cell_type": "code",
      "source": [
        "test_labels_max=np.argmax(test_labels,1)\n",
        "test_labels_reg=np.argmax(test_labels,1)\n",
        "test_labels_reg=1+test_labels_reg*0.01\n",
        "print('min:',np.amin(test_labels_reg),' max:', np.amax(test_labels_reg),' unique:', np.unique(test_labels_reg).size)\n",
        "\n",
        "predictions = model_1.predict(test_data)\n",
        "predictions_max=np.argmax(predictions,1)\n",
        "predictions_red=1+predictions_max*0.01\n",
        "print('min:',np.amin(predictions_red),' max:', np.amax(predictions_red),' unique:', np.unique(predictions_red).size)\n",
        "\n",
        "error=np.mean(abs(predictions_red - test_labels_reg))\n",
        "\n",
        "print('Mean prediction error:', error)"
      ],
      "metadata": {
        "colab": {
          "base_uri": "https://localhost:8080/"
        },
        "id": "hc4RiCP_j_A4",
        "outputId": "d41d533a-3afe-4b42-b3bd-1a081b9a6ae5"
      },
      "execution_count": 64,
      "outputs": [
        {
          "output_type": "stream",
          "name": "stdout",
          "text": [
            "min: 1.0  max: 8.99  unique: 573\n",
            "32/32 [==============================] - 0s 2ms/step\n",
            "min: 1.0  max: 8.99  unique: 388\n",
            "Mean prediction error: 0.17532\n"
          ]
        }
      ]
    },
    {
      "cell_type": "code",
      "source": [
        "from sklearn.metrics import confusion_matrix,ConfusionMatrixDisplay\n",
        "\n",
        "cm = confusion_matrix(test_labels_max, predictions_max)\n"
      ],
      "metadata": {
        "id": "o3wyH7Wk8Ivw"
      },
      "execution_count": 65,
      "outputs": []
    },
    {
      "cell_type": "code",
      "source": [
        "import seaborn as sns\n",
        "plt.figure(figsize=(7, 7))\n",
        "sns.heatmap(cm, cmap='viridis', xticklabels=200, yticklabels=200)\n",
        "plt.xlabel('Predicted')\n",
        "plt.ylabel('True')\n",
        "plt.show()"
      ],
      "metadata": {
        "colab": {
          "base_uri": "https://localhost:8080/",
          "height": 624
        },
        "id": "v-nHdCJ_-2Op",
        "outputId": "bae01cda-327e-4966-bd17-22b20f2f954e"
      },
      "execution_count": 69,
      "outputs": [
        {
          "output_type": "display_data",
          "data": {
            "text/plain": [
              "<Figure size 700x700 with 2 Axes>"
            ],
            "image/png": "[encoded data removed]"
          },
          "metadata": {}
        }
      ]
    }
  ]
}